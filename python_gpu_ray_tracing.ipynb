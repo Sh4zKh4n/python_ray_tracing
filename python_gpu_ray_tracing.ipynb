{
  "nbformat": 4,
  "nbformat_minor": 0,
  "metadata": {
    "colab": {
      "name": "python_gpu_ray_tracing.ipynb",
      "provenance": [],
      "collapsed_sections": [],
      "authorship_tag": "ABX9TyNV/igI8kF+qgbFbq95/lRN",
      "include_colab_link": true
    },
    "kernelspec": {
      "name": "python3",
      "display_name": "Python 3"
    }
  },
  "cells": [
    {
      "cell_type": "markdown",
      "metadata": {
        "id": "view-in-github",
        "colab_type": "text"
      },
      "source": [
        "<a href=\"https://colab.research.google.com/github/maderix/python_ray_tracing/blob/master/python_gpu_ray_tracing.ipynb\" target=\"_parent\"><img src=\"https://colab.research.google.com/assets/colab-badge.svg\" alt=\"Open In Colab\"/></a>"
      ]
    },
    {
      "cell_type": "code",
      "metadata": {
        "id": "OFGQyAqQSHqR",
        "colab_type": "code",
        "outputId": "6b2a5953-4505-49ca-cd1b-44c87b7988bc",
        "colab": {
          "base_uri": "https://localhost:8080/",
          "height": 139
        }
      },
      "source": [
        "!curl https://colab.chainer.org/install | CUPY_VERSION=\"==8.0.0b2\" sh -"
      ],
      "execution_count": 0,
      "outputs": [
        {
          "output_type": "stream",
          "text": [
            "  % Total    % Received % Xferd  Average Speed   Time    Time     Time  Current\n",
            "                                 Dload  Upload   Total   Spent    Left  Speed\n",
            "\r  0     0    0     0    0     0      0      0 --:--:-- --:--:-- --:--:--     0\r100  1580  100  1580    0     0   3457      0 --:--:-- --:--:-- --:--:--  3449\r100  1580  100  1580    0     0   3457      0 --:--:-- --:--:-- --:--:--  3449\n",
            "********************************************************************************\n",
            "GPU is not enabled!\n",
            "Open \"Runtime\" > \"Change runtime type\" and set \"Hardware accelerator\" to \"GPU\".\n",
            "********************************************************************************\n"
          ],
          "name": "stdout"
        }
      ]
    },
    {
      "cell_type": "code",
      "metadata": {
        "id": "AjgpEZAY-Q0a",
        "colab_type": "code",
        "colab": {}
      },
      "source": [
        "from PIL import Image\n",
        "from functools import reduce\n",
        "import numpy as np\n",
        "import numpy as onp\n",
        "import time\n",
        "import numbers\n",
        "import math\n",
        "import matplotlib.pyplot as plt\n",
        "%matplotlib inline\n"
      ],
      "execution_count": 0,
      "outputs": []
    },
    {
      "cell_type": "code",
      "metadata": {
        "id": "6YVroW7J_rXK",
        "colab_type": "code",
        "colab": {}
      },
      "source": [
        "def extract(cond, x):\n",
        "    if isinstance(x, numbers.Number):\n",
        "        return x\n",
        "    else:\n",
        "        return np.extract(cond, x)\n",
        "\n",
        "class vec3():\n",
        "    def __init__(self, x, y, z):\n",
        "        (self.x, self.y, self.z) = (x, y, z)\n",
        "    def __mul__(self, other):\n",
        "        return vec3(self.x * other, self.y * other, self.z * other)\n",
        "    def __add__(self, other):\n",
        "        return vec3(self.x + other.x, self.y + other.y, self.z + other.z)\n",
        "    def __sub__(self, other):\n",
        "        return vec3(self.x - other.x, self.y - other.y, self.z - other.z)\n",
        "    def dot(self, other):\n",
        "        return (self.x * other.x) + (self.y * other.y) + (self.z * other.z)\n",
        "    def __abs__(self):\n",
        "        return self.dot(self)\n",
        "    def norm(self):\n",
        "        mag = np.sqrt(abs(self))\n",
        "        return self * (1.0 / np.where(mag == 0, 1, mag))\n",
        "    def components(self):\n",
        "        return (self.x, self.y, self.z)\n",
        "    def extract(self, cond):\n",
        "        return vec3(extract(cond, self.x),\n",
        "                    extract(cond, self.y),\n",
        "                    extract(cond, self.z))\n",
        "    def place(self, cond):\n",
        "        r = vec3(np.zeros(cond.shape), np.zeros(cond.shape), np.zeros(cond.shape))\n",
        "        np.place(r.x, cond, self.x)\n",
        "        np.place(r.y, cond, self.y)\n",
        "        np.place(r.z, cond, self.z)\n",
        "        return r\n",
        "rgb = vec3"
      ],
      "execution_count": 0,
      "outputs": []
    },
    {
      "cell_type": "code",
      "metadata": {
        "id": "nwS2eSz3_yL5",
        "colab_type": "code",
        "colab": {}
      },
      "source": [
        "(w, h) = (900, 900)         # Screen size\n",
        "#point lights\n",
        "lights = [\n",
        "          (vec3(5, 5, -10),rgb(0.2,0.1,0.2)),\n",
        "          (vec3(10, 5, -10),rgb(0.1,0.1,0.1)),\n",
        "          (vec3(10, 5, -30),rgb(0.1,0.1,0.1))\n",
        "]\n",
        "eye_pos = vec3(0, 0.35, -1)     # Eye position\n",
        "FARAWAY = math.inf          # an implausibly huge distance"
      ],
      "execution_count": 0,
      "outputs": []
    },
    {
      "cell_type": "code",
      "metadata": {
        "id": "Dhsb7hwk_y8v",
        "colab_type": "code",
        "colab": {}
      },
      "source": [
        "def raytrace(O, D, scene, bounce,lights):\n",
        "    # O is the ray origin, D is the normalized ray direction\n",
        "    # scene is a list of Sphere objects (see below)\n",
        "    # bounce is the number of the bounce, starting at zero for camera rays\n",
        "\n",
        "    distances = [s.intersect(O, D) for s in scene]\n",
        "    nearest = reduce(np.minimum, distances)\n",
        "    color = rgb(0, 0, 0)\n",
        "    for (s, d) in zip(scene, distances):\n",
        "        hit = (nearest != FARAWAY) & (d == nearest)\n",
        "        if np.any(hit):\n",
        "            dc = extract(hit, d)\n",
        "            Oc = O.extract(hit)\n",
        "            Dc = D.extract(hit)\n",
        "            cc = s.light(Oc, Dc, dc, scene, bounce, lights)\n",
        "            color += cc.place(hit)\n",
        "    return color\n",
        "\n",
        "class Sphere:\n",
        "    def __init__(self, center, r, diffuse, mirror = 0.5):\n",
        "        self.c = center\n",
        "        self.r = r\n",
        "        self.diffuse = diffuse\n",
        "        self.mirror = mirror\n",
        "\n",
        "    def intersect(self, O, D):\n",
        "        b = 2 * D.dot(O - self.c)\n",
        "        c = abs(self.c) + abs(O) - 2 * self.c.dot(O) - (self.r * self.r)\n",
        "        disc = (b ** 2) - (4 * c)\n",
        "        sq = np.sqrt(np.maximum(0, disc))\n",
        "        h0 = (-b - sq) / 2\n",
        "        h1 = (-b + sq) / 2\n",
        "        h = np.where((h0 > 0) & (h0 < h1), h0, h1)\n",
        "        pred = (disc > 0) & (h > 0)\n",
        "        return np.where(pred, h, FARAWAY)\n",
        "\n",
        "    def diffusecolor(self, M):\n",
        "        return self.diffuse\n",
        "\n",
        "    def light(self, O, D, d, scene, bounce, lights):\n",
        "      # Ambient\n",
        "      color = rgb(0.0,0.0,0.0)\n",
        "      for L in lights:\n",
        "        color += L[1]\n",
        "        M = (O + D * d)                         # intersection point\n",
        "        N = (M - self.c) * (1. / self.r)        # normal\n",
        "        toL = (L[0] - M).norm()                    # direction to light\n",
        "        toO = (eye_pos - M).norm()                    # direction to ray origin\n",
        "        nudged = M + N * .0001                  # M nudged to avoid itself\n",
        "\n",
        "        # Shadow: find if the point is shadowed or not.\n",
        "        # This amounts to finding out if M can see the light\n",
        "        light_distances = [s.intersect(nudged, toL) for s in scene]\n",
        "        light_nearest = reduce(np.minimum, light_distances)\n",
        "        seelight = light_distances[scene.index(self)] == light_nearest\n",
        "\n",
        "        # Lambert shading (diffuse)\n",
        "        lv = np.maximum(N.dot(toL), 0)\n",
        "        color += self.diffusecolor(M) * lv * seelight\n",
        "\n",
        "        # Reflection\n",
        "        if bounce < 1:\n",
        "            rayD = (D - N * 2 * D.dot(N)).norm()\n",
        "            color += raytrace(nudged, rayD, scene, bounce + 1,lights) * self.mirror\n",
        "\n",
        "        # Blinn-Phong shading (specular)\n",
        "        phong = N.dot((toL + toO).norm())\n",
        "        color += rgb(1, 1, 1) * np.power(np.clip(phong, 0, 1), 50) * seelight\n",
        "      return color\n",
        "\n",
        "class CheckeredSphere(Sphere):\n",
        "    def diffusecolor(self, M):\n",
        "        checker = ((M.x * 2).astype(int) % 2) == ((M.z * 2).astype(int) % 2)\n",
        "        return self.diffuse * checker\n",
        "\n",
        "scene = [\n",
        "    Sphere(vec3(.75, .1, 1), .6, rgb(0, 0, 1)),\n",
        "    Sphere(vec3(-.75, .1, 2.25), .6, rgb(.5, .223, .5)),\n",
        "    Sphere(vec3(-2.75, .1, 3.5), .6, rgb(1, 1, .184)),\n",
        "    Sphere(vec3(-4.75, .1, 3.5), .6, rgb(1, .572, .184)),\n",
        "    CheckeredSphere(vec3(0,-99999.5, 0), 99999, rgb(.75, .75, .75), 0.25),\n",
        "    ]\n"
      ],
      "execution_count": 0,
      "outputs": []
    },
    {
      "cell_type": "code",
      "metadata": {
        "id": "EOzcJ23nBd0m",
        "colab_type": "code",
        "outputId": "083765e7-c0c2-48bf-b4c3-dbc1a6244db0",
        "colab": {
          "base_uri": "https://localhost:8080/",
          "height": 35
        }
      },
      "source": [
        "r = float(w) / h\n",
        "# Screen coordinates: x0, y0, x1, y1.\n",
        "S = (-1, 1 / r + .25, 1, -1 / r + .25)\n",
        "x = np.tile(np.linspace(S[0], S[2], w), h)\n",
        "y = np.repeat(np.linspace(S[1], S[3], h), w)\n",
        "\n",
        "t0 = time.time()\n",
        "Q = vec3(x, y, 0)\n",
        "color = raytrace(eye_pos, (Q - eye_pos).norm(), scene,bounce=0,lights=lights)\n",
        "print (\"Took\", time.time() - t0)"
      ],
      "execution_count": 0,
      "outputs": [
        {
          "output_type": "stream",
          "text": [
            "Took 2.504704475402832\n"
          ],
          "name": "stdout"
        }
      ]
    },
    {
      "cell_type": "code",
      "metadata": {
        "id": "L6qKKA3IAIHK",
        "colab_type": "code",
        "outputId": "c3658a71-4d61-4a60-dbc0-eb141081d816",
        "colab": {
          "base_uri": "https://localhost:8080/",
          "height": 287
        }
      },
      "source": [
        "pixels = [Image.fromarray((255 * onp.clip(c, 0, 1).reshape((h, w))).astype(onp.uint8), \"L\") for c in color.components()]\n",
        "pixels = Image.merge(\"RGB\", pixels)\n",
        "plt.imshow(onp.array(pixels))"
      ],
      "execution_count": 0,
      "outputs": [
        {
          "output_type": "execute_result",
          "data": {
            "text/plain": [
              "<matplotlib.image.AxesImage at 0x7f80ef3e5c50>"
            ]
          },
          "metadata": {
            "tags": []
          },
          "execution_count": 11
        },
        {
          "output_type": "display_data",
          "data": {
            "image/png": "[encoded data removed]",
            "text/plain": [
              "<Figure size 432x288 with 1 Axes>"
            ]
          },
          "metadata": {
            "tags": [],
            "needs_background": "light"
          }
        }
      ]
    },
    {
      "cell_type": "code",
      "metadata": {
        "id": "eS8pKM7BAfRl",
        "colab_type": "code",
        "colab": {}
      },
      "source": [
        ""
      ],
      "execution_count": 0,
      "outputs": []
    }
  ]
}