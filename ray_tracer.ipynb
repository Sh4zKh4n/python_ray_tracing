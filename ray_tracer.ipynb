{
  "nbformat": 4,
  "nbformat_minor": 0,
  "metadata": {
    "colab": {
      "name": "ray_tracer.ipynb",
      "provenance": [],
      "collapsed_sections": [],
      "authorship_tag": "ABX9TyMsMRR0/5wW7VF67LW09PFY",
      "include_colab_link": true
    },
    "kernelspec": {
      "name": "python3",
      "display_name": "Python 3"
    }
  },
  "cells": [
    {
      "cell_type": "markdown",
      "metadata": {
        "id": "view-in-github",
        "colab_type": "text"
      },
      "source": [
        "<a href=\"https://colab.research.google.com/github/maderix/python_ray_tracing/blob/master/ray_tracer.ipynb\" target=\"_parent\"><img src=\"https://colab.research.google.com/assets/colab-badge.svg\" alt=\"Open In Colab\"/></a>"
      ]
    },
    {
      "cell_type": "markdown",
      "metadata": {
        "id": "uijk_xI6mEXq",
        "colab_type": "text"
      },
      "source": [
        "# Simple Ray tracing in python\n",
        "In computer graphics, ray tracing is a rendering technique for generating an image by tracing the path of light as pixels in an image plane and simulating the effects of its encounters with virtual objects.\n",
        "\n",
        "![Ray tracing illustration](https://upload.wikimedia.org/wikipedia/commons/thumb/8/83/Ray_trace_diagram.svg/450px-Ray_trace_diagram.svg.png)\n",
        "\n"
      ]
    },
    {
      "cell_type": "markdown",
      "metadata": {
        "id": "GZNJh7GMnBJj",
        "colab_type": "text"
      },
      "source": [
        "Ray tracing is a simpler algorithm than rasterization which relies on a complex pipeline of computer graphics techniques and algorithms. While the advantage of Ray tracing are simplicity and ease of implementation, it's notoriously slow compared to rasterization.\n",
        "In this notebook, we'll attempt to implement a simple ray tracer in Python . Python is not a great choice for such a compute intesive task but as an example, it'll be enough."
      ]
    },
    {
      "cell_type": "code",
      "metadata": {
        "id": "JQrdtNd8oTIt",
        "colab_type": "code",
        "colab": {}
      },
      "source": [
        "#import the required modules\n",
        "import numpy as np \n",
        "#np.seterr(divide='ignore', invalid='ignore')\n",
        "import math\n",
        "import cv2\n",
        "import random\n",
        "import time\n",
        "import matplotlib.pyplot as plt\n",
        "%matplotlib inline"
      ],
      "execution_count": 0,
      "outputs": []
    },
    {
      "cell_type": "code",
      "metadata": {
        "id": "SocfBBIkoYAh",
        "colab_type": "code",
        "colab": {}
      },
      "source": [
        "#a short hand for vector normalization\n",
        "def normalize(arr):\n",
        "    #return arr/np.sqrt(arr[0]**2+arr[1]**2+arr[2]**2)\n",
        "    return arr/np.linalg.norm(arr)"
      ],
      "execution_count": 0,
      "outputs": []
    },
    {
      "cell_type": "markdown",
      "metadata": {
        "id": "l6rN0KzxofIN",
        "colab_type": "text"
      },
      "source": [
        "Python natively doesn't have a 3D vector class but as 3D vectors are metrices only, we can use the numpy library to simulate 3D vector math.\n",
        "Our simple ray tracer will only have spheres. As an extension, more objects can be added later."
      ]
    },
    {
      "cell_type": "code",
      "metadata": {
        "id": "yMvXGVtkowqP",
        "colab_type": "code",
        "colab": {}
      },
      "source": [
        "#\n",
        "class Sphere(object):\n",
        "    def __init__(self, center, radius, surface_color, transparency, reflection,emission_color=np.array([0.0,0.0,0.0])):\n",
        "        self.center = center\n",
        "        self.radius = radius\n",
        "        self.surface_color = surface_color\n",
        "        self.emission_color = emission_color\n",
        "        self.transparency = transparency\n",
        "        self.reflection = reflection\n",
        "    #intersection routine: Hit a ray with a sphere and return hit points\n",
        "    def intersect(self, ray_origin, ray_dir):\n",
        "        l = self.center - ray_origin\n",
        "        tca = l.dot(ray_dir)\n",
        "        if tca < 0:\n",
        "            return False,-1,-1\n",
        "        d2 = l.dot(l) - tca*tca\n",
        "        if d2 > self.radius**2:\n",
        "            return False,-1,-1\n",
        "        thc = math.sqrt(self.radius**2 - d2)\n",
        "        t0 = tca - thc\n",
        "        t1 = tca + thc\n",
        "        return True,t0,t1"
      ],
      "execution_count": 0,
      "outputs": []
    },
    {
      "cell_type": "code",
      "metadata": {
        "id": "PeK3e3yCpzzk",
        "colab_type": "code",
        "colab": {}
      },
      "source": [
        "MAX_RAY_DEPTH=5\n",
        "# a simple routine for mixing two colors\n",
        "def mix(a,b,mix):\n",
        "    return b*mix + a*(1-mix)"
      ],
      "execution_count": 0,
      "outputs": []
    },
    {
      "cell_type": "code",
      "metadata": {
        "id": "lrdCD9k1qeV2",
        "colab_type": "code",
        "colab": {}
      },
      "source": [
        "def ray_trace(ray_origin, ray_dir, spheres, depth):\n",
        "    tnear = math.inf\n",
        "    hit = None\n",
        "    for sphere in spheres:\n",
        "        status,t0,t1 = sphere.intersect(ray_origin, ray_dir)\n",
        "        if status:\n",
        "            if t0 < 0 : t0  = 1\n",
        "            if t0 < tnear:\n",
        "                tnear = t0\n",
        "            hit = sphere\n",
        "    if hit == None:\n",
        "        return np.array([0.2,0.2,0.2])\n",
        "    surface_color = np.array([0.0,0.0,0.0])\n",
        "    phit = ray_origin + ray_dir * tnear\n",
        "    nhit = phit - hit.center\n",
        "    nhit = normalize(nhit)\n",
        "    # If the normal and the view direction are not opposite to each other\n",
        "    # reverse the normal direction. That also means we are inside the sphere so set\n",
        "    # the inside bool to true. Finally reverse the sign of IdotN which we want\n",
        "    # positive.bias \n",
        "    bias = 1e-4\n",
        "    inside = False\n",
        "    if ray_dir.dot(nhit) > 0:\n",
        "        nhit = -1.0 * nhit\n",
        "        inside = True\n",
        "    if (hit.transparency > 0 or hit.reflection > 0) and depth < MAX_RAY_DEPTH:\n",
        "        facing_ratio = -1.0*ray_dir.dot(nhit)\n",
        "        fresnel_effect = mix(math.pow(1 - facing_ratio, 3), 1, 0.1)\n",
        "        refl_dir = ray_dir - nhit * 2 * ray_dir.dot(nhit)\n",
        "        refl_dir = normalize(refl_dir)\n",
        "        reflection = ray_trace(phit + nhit*bias, refl_dir, spheres, depth + 1)\n",
        "        refraction = np.array([0.0,0.0,0.0])\n",
        "        if hit.transparency > 0:\n",
        "            ior = 1.1\n",
        "            eta = 0\n",
        "            if inside:\n",
        "                eta = ior\n",
        "            else:\n",
        "                eta = 1 / ior\n",
        "            cos_i = -1.0*nhit.dot(ray_dir)\n",
        "            k = abs(1 - eta * eta * (1 - cos_i**2))\n",
        "            #print(k)\n",
        "            sk = math.sqrt(k)\n",
        "            refr_dir = normalize(ray_dir * eta + nhit * (eta * cos_i - math.sqrt(k) ))\n",
        "            #print(refr_dir)\n",
        "            refraction = ray_trace(phit - nhit*bias, refr_dir, spheres, depth + 1)\n",
        "        surface_color = (reflection * fresnel_effect + \n",
        "                        refraction*(1 - fresnel_effect)*hit.transparency) * hit.surface_color\n",
        "    else:\n",
        "        surface_color = np.array([0.0,0.0,0.0])\n",
        "        for i in range(len(spheres)):\n",
        "            if spheres[i].emission_color[0] > 0:\n",
        "                transmission = np.array([1.0,1.0,1.0])\n",
        "                light_dir = spheres[i].center - phit\n",
        "                light_dir = normalize(light_dir)\n",
        "                for j in range(len(spheres)):\n",
        "                    if i != j:\n",
        "                        t0,t1=0.0,0.0\n",
        "                        status,t0,t1= spheres[j].intersect(phit + nhit*bias, light_dir)\n",
        "                        if status:\n",
        "                            transmission = np.array([0.0,0.0,0.0])\n",
        "                            break\n",
        "                surface_color += hit.surface_color * transmission * max(0.0, nhit.dot(light_dir)) * spheres[i].emission_color\n",
        "                #print(i,surface_color)\n",
        "    return surface_color + hit.emission_color"
      ],
      "execution_count": 0,
      "outputs": []
    },
    {
      "cell_type": "code",
      "metadata": {
        "id": "qwGlKgyHq1FW",
        "colab_type": "code",
        "colab": {}
      },
      "source": [
        "def render(spheres):\n",
        "    height,width = 480,640\n",
        "    image = np.zeros((height,width,3))\n",
        "    fov = 30.0\n",
        "    aspect_ratio = float(width/height)\n",
        "    angle = math.tan(math.pi*0.5*fov/180)\n",
        "    for y in range(height):\n",
        "        for x in range(width):\n",
        "            xx = (2 * ((x + 0.5) * 1/width) - 1) * angle * aspect_ratio\n",
        "            yy = (1 - 2 * ((y + 0.5) * 1/height)) * angle\n",
        "            ray_dir = np.array([xx,yy,-1.0])\n",
        "            ray_dir = normalize(ray_dir)\n",
        "            val = ray_trace(np.array([0.0,0.0,20.0]),ray_dir,spheres,0)\n",
        "            #print(x,y)\n",
        "            image[y,x] = val\n",
        "    #save the buffer to a file\n",
        "    image = np.float32(image)\n",
        "    image = cv2.cvtColor(image,cv2.COLOR_BGR2RGB)\n",
        "    plt.imshow(image)"
      ],
      "execution_count": 0,
      "outputs": []
    },
    {
      "cell_type": "code",
      "metadata": {
        "id": "HIJxxRyIrvqI",
        "colab_type": "code",
        "outputId": "13a9534a-8c55-4f96-ca0a-6ac8edad8ebc",
        "colab": {
          "base_uri": "https://localhost:8080/",
          "height": 304
        }
      },
      "source": [
        "if __name__ == \"__main__\":\n",
        "    random.seed(13)\n",
        "    spheres = []\n",
        "    #position, radius, surface color, reflectivity, transparency, emission color\n",
        "    spheres.append(Sphere(np.array([ 0.0, -10004, -20]), 10000, np.array([0.20, 0.20, 0.20]),0,0))\n",
        "    spheres.append(Sphere(np.array([ 0.0, 0, -20]), 4, np.array([1.0, 0.32, 0.36]),1,0.5))\n",
        "    spheres.append(Sphere(np.array([ 5.0, -1, -15]), 2, np.array([0.90, 0.76, 0.46]), 1,0))\n",
        "    spheres.append(Sphere(np.array([ 5.0, 0, -25]), 3, np.array([0.65, 0.77, 0.97]),1,0))\n",
        "    spheres.append(Sphere(np.array([ -5.5, 0, -15]), 3, np.array([0.90, 0.90, 0.90]), 1,0))\n",
        "    #light\n",
        "    spheres.append(Sphere(np.array([ 0.0, 20, -10]), 3, np.array([0.0,0.0,0.0]), 0,0, np.array([3.0,3.0,3.0])))\n",
        "    start = time.time()\n",
        "    render(spheres)\n",
        "    print(f'total time for rendering:{time.time()-start} seconds')"
      ],
      "execution_count": 0,
      "outputs": [
        {
          "output_type": "stream",
          "text": [
            "Clipping input data to the valid range for imshow with RGB data ([0..1] for floats or [0..255] for integers).\n"
          ],
          "name": "stderr"
        },
        {
          "output_type": "stream",
          "text": [
            "total time for rendering:60.094748735427856 seconds\n"
          ],
          "name": "stdout"
        },
        {
          "output_type": "display_data",
          "data": {
            "image/png": "[encoded data removed]",
            "text/plain": [
              "<Figure size 432x288 with 1 Axes>"
            ]
          },
          "metadata": {
            "tags": [],
            "needs_background": "light"
          }
        }
      ]
    },
    {
      "cell_type": "code",
      "metadata": {
        "id": "d9rjXQKWr_W6",
        "colab_type": "code",
        "colab": {}
      },
      "source": [
        ""
      ],
      "execution_count": 0,
      "outputs": []
    }
  ]
}